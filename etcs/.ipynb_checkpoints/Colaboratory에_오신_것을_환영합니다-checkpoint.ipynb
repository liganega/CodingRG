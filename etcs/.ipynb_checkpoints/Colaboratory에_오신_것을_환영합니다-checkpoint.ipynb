{
 "cells": [
  {
   "cell_type": "markdown",
   "metadata": {},
   "source": [
    "# 주피터 노트북과 셀(Cell)"
   ]
  },
  {
   "cell_type": "markdown",
   "metadata": {},
   "source": [
    "주피터 노트북은 셀(cell, 세포)로 구성되어 있다.\n",
    "셀은 기본적으로 코드 셀과 텍스트 셀 두 종류로 나뉜다.\n",
    "코드 셀에서는 코드를 작성하여 바로 실행할 수 있다.\n",
    "반면에 텍스트 셀에서는 코드와 관련된 다양한 형식의 문서를 마크다운(Markdown) 언어로 작성할 수 있다.\n",
    "\n",
    "주피터 노트북은 말 그대로 프로그램과 관련된 생각, 정보, 지식, 전달사항을 정리하는 문서를 담은 \n",
    "노트북(책) 기능을 수행한다.\n",
    "일반적인 노트북(책) 기능과의 차이점은 크게 두 가지이다. \n",
    "\n",
    "1. 코드 셀을 이용하여 코드를 직접 실행할 수 있다.\n",
    "1. 텍스트 셀은 마크다운(Markdown)이라는 문서화 전용 언어를 지원한다.\n",
    "    마크다운 언어는 사용이 매우 쉬우며, 무엇보다도 HTML, 일부 LaTex 언어(엄밀히는 MathJax 언어)를 \n",
    "    함께 사용할 수 있다.\n",
    "    따라서 컴퓨터 프로그래밍 관련 뿐만 아니라, 수학 등 과학 관련 문서를 작성하는 데에도\n",
    "    유용하게 사용된다. "
   ]
  },
  {
   "cell_type": "markdown",
   "metadata": {},
   "source": [
    "# 주피터 노트북 단축키 모음"
   ]
  },
  {
   "cell_type": "markdown",
   "metadata": {},
   "source": [
    "셀 생성, 수정, 삭제 등을 위한 단축키가 다양하게 제공된다. \n",
    "주피터 노트북을 효율적으로 사용하려면 단축키를 잘 활용해야 한다.\n",
    "\n",
    "단축키의 작동원리를 이해하려면 먼저 두 가지 모드를 이해해야 한다.\n",
    "\n",
    "1. 편집 모드(edit mode)\n",
    "    * 셀 내부에서 코드 및 문서를 작성할 수 있는 상태를 가리킨다.\n",
    "    * 초록색 상자로 셀 경계가 표시된다. (주의: Colab은 다르다.)\n",
    "\n",
    "\n",
    "2. 명령 모드(command mode)\n",
    "    * 특정 셀이 선택되었지만 내용을 편집할 수 **없는** 상태를 말한다. \n",
    "    * 파란색 상자로 셀 경계가 표시된다. (주의: Colab은 다르다.)\n",
    "    * 특정 셀 차원이 아닌, 모든 셀 바깥의 차원에서 주피터 노트북 전체를 대상으로 하는 상태이다. \n",
    "    \n",
    "단축키는 모드에 따라 작동하는 방식이 다르다.\n",
    "따라서 현재 어느 모드에 있는지 아는 상태에서 적절한 단축키를 사용해야 한다.\n",
    "\n",
    "주피터 노트북의 기본 단축키와 구글 코랩(Google Colab)에서 사용되는 단축키가 다르다.\n",
    "어찌 보면 많이 다르지만 실제로는 거의 같다. \n",
    "구글 코랩의 주피터 노트북이 사용되는 환경이 다르기 때문에 어쩔 수 없이 다른 키 조합을 사용하지만 \n",
    "기본 단축키를 거의 모방하였다.\n",
    "\n",
    "단축키를 읽는 방법은 아래 예제를 참고한다.\n",
    "\n",
    "* 키(버튼) 기호\n",
    "    * F, J 등등: F 키, J 키 등 영어 알파벳 키를 가리킨다.\n",
    "    * 1, 2, 3, ...: 숫자 1, 2, 3 등을 가리킨다.\n",
    "    * Ctrl, Shift, Alt, Enter: 컨트롤 키, 쉬프트 키, 알트 키, 엔터 키를 가리킨다.\n",
    "    * Down과 Up: 각각 아래 방향 화살표($\\downarrow$)와 위 방향 화살표($\\uparrow$)를 가리킨다.\n",
    "\n",
    "\n",
    "* 키 조합 읽는 법 예제\n",
    "    * F: F 키를 한 번 누른다.\n",
    "    * 1: 숫자 1을 한 번 누른다.\n",
    "    * Ctrl+Enter: 컨트롤 키와 엔터 키를 동시에 누른다.\n",
    "    * Ctrl+M, H: 컨트롤 키와 M 키를 동시에 누른 후, H 키를 누른다.\n",
    "    * Ctrl+Shift+F: 컨트롤 키, 쉬프트 키, F 키를 동시에 누른다.\n",
    "    * Ctrl+Shift+Minus: 컨트롤 키, 쉬프트 키, 빼기(-) 키를 동시에 누른다.\n",
    "    * I, I: 영어 알파벳 I 키를 두 번 누른다.\n",
    "    * 0, 0: 숫자 0을 두 번 누른다.\n",
    "    \n",
    "    \n",
    "* 맥 OSX에서는 `Ctrl` 키 대신에 `Cmd` (커맨드) 키를 사용한다."
   ]
  },
  {
   "cell_type": "markdown",
   "metadata": {},
   "source": [
    "## 명령 모드 단축키\n",
    "\n",
    "어떤 상태에서든 `Esc` 키를 누르면 명령모드로 진입한다.\n",
    "이후 명령모드에서 아래 단축키들을 사용할 수 있다."
   ]
  },
  {
   "cell_type": "markdown",
   "metadata": {},
   "source": [
    "### 단축키 창 보이기/가리기\n",
    "\n",
    "단축키 모음 창을 보이거나 가릴 수 있다.\n",
    "\n",
    "| 기본 노트북        |    기능       |   Colab 노트북    |\n",
    "| :---           |    :----:    |          ---: |\n",
    "| `H`            | 단축키 모음 창 보이기/가리기 | `Ctrl+M, H` |\n",
    "| `H` 또는 `ESC, ESC`            | 단축키 모음 창 보이기/가리기 | `ESC` |"
   ]
  },
  {
   "cell_type": "markdown",
   "metadata": {},
   "source": [
    "### 노트북 저장\n",
    "\n",
    "노트북 현 상태를 저장한다.\n",
    "\n",
    "| 기본 노트북        |    기능      |   Colab 노트북    |\n",
    "| :---        |    :----:   |          ---: |\n",
    "| `S`           |  노트북 저장하기   | `Ctrl+M, S`        |"
   ]
  },
  {
   "cell_type": "markdown",
   "metadata": {},
   "source": [
    "### 찾기와 바꾸기\n",
    "\n",
    "노트북 전체를 대상으로 찾기와 바꾸기를 지원한다.\n",
    "브라우저에서 기본으로 지원하는 `Ctrl+F`는\n",
    "특정 셀의 편집모드에서만 작동하는 찾기/바꾸기 기능이다.\n",
    "\n",
    "| 기본 노트북        |    기능      |   Colab 노트북    |\n",
    "| :---        |    :----:   |          ---: |\n",
    "| `F`           |  찾기/바꾸기   | `Ctrl+H`        |"
   ]
  },
  {
   "cell_type": "markdown",
   "metadata": {},
   "source": [
    "### 편집 모드 전환\n",
    "\n",
    "특정 셀을 선택한 후 `Enter` 키를 누르거나, 마우스 더블클릭을 하면 된다.\n",
    "\n",
    "| 기본 노트북        |    기능       |   Colab 노트북    |\n",
    "| :---        |    :----:    |          ---: |\n",
    "| `Enter` 또는 더블클릭  |  편집 모드 전환 | Enter 또는 더블클릭  |"
   ]
  },
  {
   "cell_type": "markdown",
   "metadata": {},
   "source": [
    "### 노트북 커널(kernel) 재실행\n",
    "\n",
    "주피터 노트북 커널을 재실행한다. 실행된 코드셀이 모두 무시된다.\n",
    "\n",
    "| 기본 노트북        |    기능       |   Colab 노트북    |\n",
    "| :---            |    :----:    |          ---: |\n",
    "| `0, 0`       |  노트북 커널 재실행     | `Ctrl+M, .`        |\n",
    "\n",
    "* `0`: 숫자 영(`0`) 키를 가리킨다.\n",
    "* `.`: 마침표 기호를 가리킨다."
   ]
  },
  {
   "cell_type": "markdown",
   "metadata": {},
   "source": [
    "### 다른 셀 선택하기\n",
    "\n",
    "화살표 키나 마우스를 이용하여 특정 셀을 선택한다.\n",
    "기본 노트북에서는 `J`와 `K`를 이용하여 셀을 선택할 수 있다.\n",
    "\n",
    "| 기본 노트북        |    기능       |   Colab 노트북    |\n",
    "| :---           |    :----:    |          ---: |\n",
    "| `J` 또는 `Down` | 아래에 위치한 셀 선택하기 | `Down` |\n",
    "| `K` 또는 `Up`   | 위에 위치한 셀 선택하기  | `Up` |"
   ]
  },
  {
   "cell_type": "markdown",
   "metadata": {},
   "source": [
    "### 셀 실행\n",
    "\n",
    "선택된 코드 셀 또는 텍스트 셀을 실행하는 방법은 세 가지이다.\n",
    "\n",
    "| 기본 노트북        |    기능       |   Colab 노트북    |\n",
    "| :---            |    :----:    |          ---: |\n",
    "| `Ctrl+Enter`       |  셀 실행                       | `Ctrl+Enter`        |\n",
    "| `Shift+Enter`      |  셀 실행후 아래 셀로 이동          | `Shift+Enter`        |\n",
    "| `Alt+Enter`        |  셀 실행 후 아래에 새로운 코드셀 생성 | `Alt+Enter` |"
   ]
  },
  {
   "cell_type": "markdown",
   "metadata": {},
   "source": [
    "### 셀 실행 중지\n",
    "\n",
    "실행이 너무 올래 걸리는 경우 중지시킬 수 있다.\n",
    "\n",
    "| 기본 노트북        |    기능       |   Colab 노트북    |\n",
    "| :---            |    :----:    |          ---: |\n",
    "| `I, I`       |  셀 실행 중지                 | `Ctrl+M, I`        |"
   ]
  },
  {
   "cell_type": "markdown",
   "metadata": {},
   "source": [
    "### 셀 변환\n",
    "\n",
    "선택된 셀을 코드 셀 또는 텍스트 셀로 전환할 수 있다.\n",
    "\n",
    "| 기본 노트북    |    기능       |   Colab 노트북    |\n",
    "| :---        |    :----:    |          ---: |\n",
    "| `Y`       |  코드 셀로 전환    | `Ctrl+M, Y`    |\n",
    "| `M`       |  텍스트 셀로 전환 | `Ctrl+M, M`    |"
   ]
  },
  {
   "cell_type": "markdown",
   "metadata": {},
   "source": [
    "### 섹션 제목 셀 지정\n",
    "\n",
    "텍스트 셀에 절(section), 관(subsection) 등의 조문체계로 구성할 수 있다. \n",
    "html 언어에서 사용되는 헤드 태그(head tags, h1 ~ h6) 기능과 동일하다.\n",
    "Colab에는 해당 단축키 기능이 없다.\n",
    "다만, 텍스트 셀로 전환(Ctrl-M, m)한 후, 셀의 맨 위 문장에 원하는 \n",
    "만큼의 샵(#) 기호를 추가하면 된다.\n",
    "\n",
    "| 기본 노트북        |    기능       |   Colab 노트북    |\n",
    "| :---            |    :----:    |          ---: |\n",
    "| `1`       |  절(section, heading 1) | (없음) |\n",
    "| `2`       |  관(sub-section, heading 2) | (없음) |\n",
    "| `3`       |  (heading 3) | (없음) |\n",
    "| `4`       |  (heading 4) | (없음) |\n",
    "| `5`       |  (heading 5) | (없음) |\n",
    "| `6`       |  (heading 6) | (없음) |\n",
    "\n",
    "\n",
    "코랩 노트북에서 섹션 제목 셀 생성방법은 다음과 같다.\n",
    "\n",
    "1. 텍스트 셀 생성 후 맨 앞에서 `#`를 원하는 만큼 추가\n",
    "1. `[Insert] -> [Sectio header cell]` 선택 후 `#`를 원하는 만큼 추가"
   ]
  },
  {
   "cell_type": "markdown",
   "metadata": {},
   "source": [
    "### 셀 선택 확장\n",
    "\n",
    "여러 개의 셀을 선택하여 이동, 삭제, 합병 등을 실행할 수 있다.\n",
    "\n",
    "| 기본 노트북        |    기능       |   Colab 노트북    |\n",
    "| :---            |    :----:    |            ---: |\n",
    "| `Shift+J` 또는 `Shift+Down`      |  현재 셀과 아래 쪽에 위치한 셀 추가 선택    | `Shift+Down`     |\n",
    "| `Shift+K` 또는 `Shift+Up`        |  현재 셀과 함께 위 쪽에 위치한 셀 추가 선택  | `Shift+Up`       |"
   ]
  },
  {
   "cell_type": "markdown",
   "metadata": {},
   "source": [
    "### 선택된 셀 병합(merge)\n",
    "\n",
    "여러 개의 셀을 선택한 후 하나의 셀로 병합할 수 있다.\n",
    "\n",
    "| 기본 노트북        |    기능       |   Colab 노트북    |\n",
    "| :---            |    :----:    |            ---: |\n",
    "| `Shift+M`      |  선택된 셀 병합    | (없지만 지정 가능. 예를 들어) `Ctrl+Shift+M`     |\n",
    "\n",
    "**주의:** Colab에서 단축키 지정하기\n",
    "* `[도구] -> [단축키]` 설정에서 '`선택된 셀 병합`' 항목 선택 후 단축키 지정."
   ]
  },
  {
   "cell_type": "markdown",
   "metadata": {},
   "source": [
    "### 선택된 셀 삭제(delete)\n",
    "\n",
    "여러 개의 셀을 선택한 후 한꺼번에 삭제할 수 있다.\n",
    "\n",
    "| 기본 노트북        |    기능       |   Colab 노트북    |\n",
    "| :---            |    :----:    |            ---: |\n",
    "| `D, D`          |  선택된 셀 삭제    | `Ctrl+M, D` |"
   ]
  },
  {
   "cell_type": "markdown",
   "metadata": {},
   "source": [
    "### 셀 삭제(delete) 취소\n",
    "\n",
    "삭제된 셀을 복원할 수 있다.\n",
    "\n",
    "| 기본 노트북        |    기능       |   Colab 노트북    |\n",
    "| :---            |    :----:    |            ---: |\n",
    "| `Z`          |  삭제된 셀 복원    | `Ctrl+M, Z` |\n",
    "\n",
    "* `Z` 키와 `Ctrl+M, Z` 키는 반복적용 가능: 반복적으로 누르면 삭제된 순서 역순으로 복원됨."
   ]
  },
  {
   "cell_type": "markdown",
   "metadata": {},
   "source": [
    "### 선택된 셀 잘라내기(cut)\n",
    "\n",
    "여러 개의 셀을 선택한 후 한꺼번에 잘라낼 수 있다.\n",
    "\n",
    "| 기본 노트북        |    기능       |   Colab 노트북    |\n",
    "| :---            |    :----:    |            ---: |\n",
    "| `X`          |  선택된 셀 잘라내기    | (없음) |\n",
    "\n",
    "* Colab에서 셀 자르기: 선택된 셀 우측 상단에 있는 점 세개 아이콘 누르면 `셀 잘라내기` 선택 가능.\n",
    "    `Ctrl+X` 단축키가 지원된다고 표시되지만 실제로는 작동하지 않음.\n",
    "* 기본 노트북에서 잘라내기(cut)와 삭제(delete)의 차이점이 사실상 없음."
   ]
  },
  {
   "cell_type": "markdown",
   "metadata": {},
   "source": [
    "**잘라내기(cut)와 삭제(delete)의 차이점**\n",
    "\n",
    "* 잘라내기: 해당 부분에서 지운 후 클립보드(clipboard)에 저장한다. \n",
    "    클립보드에 저장된 내용은 붙혀넣기(paste)에 이용될 수 있다.\n",
    "* 삭제: 해당 부분에서 지운다. 클립보드에 저장되지 않는다."
   ]
  },
  {
   "cell_type": "markdown",
   "metadata": {},
   "source": [
    "### 선택된 셀 복사(copy)\n",
    "\n",
    "여러 개의 셀을 선택한 후 한꺼번에 복사하여 클립보드에 저장할 수 있다.\n",
    "\n",
    "| 기본 노트북        |    기능       |   Colab 노트북    |\n",
    "| :---            |    :----:    |            ---: |\n",
    "| `C`          |  선택된 셀 복사    | (없음) |\n",
    "\n",
    "* Colab에서 셀 자르기: 선택된 셀 우측 상단에 있는 점 세개 아이콘 누르면 `셀 복사` 선택 가능."
   ]
  },
  {
   "cell_type": "markdown",
   "metadata": {},
   "source": [
    "### 클립보드에 저장된 셀 붙혀넣기(paste)\n",
    "\n",
    "클립보드에 저장된 셀을 현재 선택된 셀 아래 또는 위에 붙혀넣을 수 있다.\n",
    "\n",
    "| 기본 노트북        |    기능       |   Colab 노트북    |\n",
    "| :---            |    :----:    |            ---: |\n",
    "| `V`             |  선택된 셀 아래쪽에 붙혀넣기    | `Ctrl+V` |\n",
    "| `Shift+V`       |  선택된 셀 위쪽에 붙혀넣기     | (없음) |"
   ]
  },
  {
   "cell_type": "markdown",
   "metadata": {},
   "source": [
    "### 선택된 셀 이동시키기\n",
    "\n",
    "여러 개의 셀을 선택한 후 셀의 위치를 동시에 이동시킬 수 있다.\n",
    "\n",
    "| 기본 노트북        |    기능       |   Colab 노트북    |\n",
    "| :---            |    :----:    |            ---: |\n",
    "| (없음)      |  선택된 셀 아래로 이동   | `Ctrl+M, J` |\n",
    "| (없음)      |  선택된 셀 위로 이동    | `Ctrl+M, K` |\n",
    "\n",
    "기본 노트북에서 셀을 이동시키는 단축키는 없으며 지정하는 기능도 지원하지 않는다.\n",
    "하지만 툴바에 있는 위($\\uparrow$), 아래($\\downarrow$) 화살표를 이용하여 선택된 셀을 동시에 이동시킬 수 있다.\n",
    "\n",
    "또한 `[Edit]` 메뉴에서 `Move Cell Down` 또는 `Move Cell Up` 항목을 선택하여 \n",
    "한 칸식 아래/위로 이동시킬 수도 있지만 여러 칸을 이동시키려면 매번 선택을 해야 하기에 불편하다.\n",
    "\n",
    "하지만 대안으로 컷-앤-페이스트(cut-and-paste) 기능에 해당하는 단축키 조합을 추천한다.\n",
    "\n",
    "* 이동시키고자 하는 셀을 모두 선택\n",
    "* `X`를 눌러 선택된 셀 자르기(cut)\n",
    "* 이동시키고자 하는 위치의 바로 위에 선택한 셀 선택\n",
    "* `V` 키를 눌러 자른 셀 복사하기(paste)"
   ]
  },
  {
   "cell_type": "markdown",
   "metadata": {},
   "source": [
    "### 셀 삽입(insert)\n",
    "\n",
    "선택된 셀 바로 위 또는 아래에 새로운 코드 셀을 삽입할 수 있다.\n",
    "\n",
    "| 기본 노트북        |    기능       |   Colab 노트북    |\n",
    "| :---            |    :----:    |            ---: |\n",
    "| `B`             |  선택된 셀 아래쪽에 코드 셀 삽입    | `Ctrl+M, B` |\n",
    "| `A`             |  선택된 셀 아래쪽에 코드 셀 삽입    | (없음) |\n",
    "\n",
    "* Colab 노트북에서 선택된 셀 위쪽에 셀을 삽입하려면, 선택된 셀 상단 중간으로 마우스를 움직였을 때\n",
    "    보이는 `+ Code` 또는 `+ Text` 셀 삽입 버튼을 누른다.\n",
    "* 기본 노트북에서 텍스트 셀을 삽입하려면 먼저 코드 셀을 삽입한 후 `M`을 눌러 텍스트 셀로 전환시키면 된다."
   ]
  },
  {
   "cell_type": "markdown",
   "metadata": {},
   "source": [
    "### 코드 셀 행 번호 보이기/숨기기\n",
    "\n",
    "코드 셀에 행번호를 표시할 수 있다.\n",
    "\n",
    "| 기본 노트북        |    기능       |   Colab 노트북    |\n",
    "| :---            |    :----:    |            ---: |\n",
    "| `L`             |  선택된 코드 셀 행 번호 보이기/숨기기  | (없음) |\n",
    "| `Shift+L`       |  전체 코드 셀 행 번호 보이기/숨기기  | `Ctrl+M, L` |\n",
    "\n",
    "* Colab 노트북에서 행 번호 표시는 전체 코드 셀에 대해 작동한다."
   ]
  },
  {
   "cell_type": "markdown",
   "metadata": {},
   "source": [
    "### 코드 셀 실행 결과 숨기기/보이기\n",
    "\n",
    "코드 셀의 실행결과를 숨길 수 있다.\n",
    "\n",
    "| 기본 노트북        |    기능       |   Colab 노트북    |\n",
    "| :---            |    :----:    |            ---: |\n",
    "| `O`             |  선택된 코드 셀 실행결과 숨기기/보이기  | `Ctrl+M, O` |\n",
    "\n",
    "* `O`: 영어 알파벳 `O[ou]` 키임."
   ]
  },
  {
   "cell_type": "markdown",
   "metadata": {},
   "source": [
    "## 편집 모드 단축키"
   ]
  },
  {
   "cell_type": "markdown",
   "metadata": {},
   "source": [
    "### 셀 내용 전체 선택\n",
    "\n",
    "커서가 위치한 셀의 모든 내용을 선택한다.\n",
    "\n",
    "| 기본 노트북           |    기능       |   Colab 노트북    |\n",
    "| :---               |    :----:    |            ---: |\n",
    "| `Ctrl+A`           | 셀 내용 전체 선택하기     | `Ctrl+A` |"
   ]
  },
  {
   "cell_type": "markdown",
   "metadata": {},
   "source": [
    "### 셀에서 행 삭제하기\n",
    "\n",
    "셀에서 커서가 위치한 행을 한 번에 삭제할 수 있다.\n",
    "\n",
    "| 기본 노트북           |    기능       |   Colab 노트북    |\n",
    "| :---               |    :----:    |            ---: |\n",
    "| `Ctrl+D`           | 셀에서 커서가 위치한 행 삭제하기     | (없음) |"
   ]
  },
  {
   "cell_type": "markdown",
   "metadata": {},
   "source": [
    "### 들여쓰기 및 들여쓰기 해제\n",
    "\n",
    "탭 키를 이용하여 문장 들여쓰기 및 취소를 진행할 수 있다. \n",
    "\n",
    "| 기본 노트북        |    기능       |   Colab 노트북    |\n",
    "| :---            |    :----:    |            ---: |\n",
    "| `Tab` 또는 `Ctrl+]`         |  들여쓰기       | `Tab` |\n",
    "| `Shift+Tab` 또는 `Ctrl+[`   |  들여쓰기 해제   | `Shift+Tab` |\n",
    "\n",
    "**주의:**\n",
    "\n",
    "* 들여쓰기 및 들여쓰기 해체는 한 단계씩 반복적으로 이루어진다. \n",
    "\n",
    "\n",
    "* `Tab` 키는 텍스트 셀과 코드 셀에서 기능이 달라진다. \n",
    "    * 텍스트 셀에서: 들여쓰기 \n",
    "    * 코드 셀에서: \n",
    "        * 커서가 코드 맨 앞에 위치할 때: 들여쓰기\n",
    "        * 커서가 코드 중간에 위치할 때: 코드 자동완성하기\n",
    "\n",
    "\n",
    "* `Shift+Tab` 단축키도 비슷하다.\n",
    "    * 텍스트 셀에서: 들여쓰기 취소\n",
    "    * 코드 셀에서: \n",
    "        * 커서가 코드 맨 앞에 위치할 때: 들여쓰기 취소\n",
    "        * 커서가 코드 중간에 위치할 때: 커서가 위치한 대상(변수, 함수 등)의 정보(tooltip) 확인\n",
    "            * Colab 노트북에서는 해당 사항 없음.\n",
    "\n",
    "\n",
    "* Colab 노트북에서 `Ctrl+]`와 `Ctrl+[`은 섹션 접기/풀기 기능을 제공한다."
   ]
  },
  {
   "cell_type": "markdown",
   "metadata": {},
   "source": [
    "### 코드 셀에서 선택된 행 주석처리 하기\n",
    "\n",
    "코드 셀 내용 편집 과정에서 일부 행을 선택한 다음 주석처리 할 수 있다.\n",
    "\n",
    "| 기본 노트북           |    기능       |   Colab 노트북    |\n",
    "| :---               |    :----:    |            ---: |\n",
    "| `Ctrl+/`           | 셀에서 선택된 행 주석처리 하기     | `Ctrl+/` |"
   ]
  },
  {
   "cell_type": "markdown",
   "metadata": {},
   "source": [
    "### 셀 편집 되돌리기 및 되돌리기 취소\n",
    "\n",
    "셀에서 편집된 내용을 되돌리거나 되돌린 것을 취소할 수 있다. \n",
    "\n",
    "| 기본 노트북           |    기능       |   Colab 노트북    |\n",
    "| :---               |    :----:    |            ---: |\n",
    "| `Ctrl+Z`           | 셀 내용 편집 되돌리기     | `Ctrl+Z` |\n",
    "| `Ctrl+Y`           | 셀 내용 편집 되돌린 것 취소하기     | `Ctrl+Y` |\n",
    "\n",
    "* 되돌리기 및 되돌리기 취소는 반복적으로 실행 가능하다.\n",
    "* 반복된 되돌리기 및 되돌리기 취소는 항상 이전 행위들의 역순으로 진행된다."
   ]
  },
  {
   "cell_type": "markdown",
   "metadata": {},
   "source": [
    "### 셀 실행\n",
    "\n",
    "편집중인 셀 또는 텍스트 셀 명령모드에서의 경우와 동일하게 실행할 수 있다.\n",
    "즉, 굳이 `ESC` 키를 누를 필요가 없다.\n",
    "\n",
    "| 기본 노트북        |    기능       |   Colab 노트북    |\n",
    "| :---            |    :----:    |          ---: |\n",
    "| `Ctrl+Enter`       |  셀 실행                       | `Ctrl+Enter`        |\n",
    "| `Shift+Enter`      |  셀 실행후 아래 셀로 이동          | `Shift+Enter`        |\n",
    "| `Alt+Enter`        |  셀 실행 후 아래에 새로운 코드셀 생성 | `Alt+Enter` |"
   ]
  },
  {
   "cell_type": "markdown",
   "metadata": {},
   "source": [
    "### 셀 쪼개기\n",
    "\n",
    "커서가 위친한 지점을 기준으로 현재 편집중인 셀을 두 개의 셀로 쪼갤 수 있다.\n",
    "\n",
    "| 기본 노트북           |    기능       |   Colab 노트북    |\n",
    "| :---               |    :----:    |            ---: |\n",
    "| `Ctrl+Shift+Minus` | 셀 쪼개기      | `Ctrl+M, Minus` |"
   ]
  },
  {
   "cell_type": "markdown",
   "metadata": {
    "colab_type": "text",
    "id": "5fCEDCU_qrC0"
   },
   "source": [
    "<p><img alt=\"Colaboratory logo\" height=\"45px\" src=\"/img/colab_favicon.ico\" align=\"left\" hspace=\"10px\" vspace=\"0px\"></p>\n",
    "\n",
    "<h1>Colaboratory에 오신 것을 환영합니다</h1>\n",
    "\n",
    "\n",
    "Colaboratory는 설치가 필요 없으며 완전히 클라우드에서 실행되는 무료 Jupyter 노트 환경입니다.\n",
    "\n",
    "Colaboratory를 사용하면 브라우저를 통해 무료로 코드를 작성 및 실행하고, 분석을 저장 및 공유하며, 강력한 컴퓨팅 리소스를 이용할 수 있습니다."
   ]
  },
  {
   "cell_type": "code",
   "execution_count": 1,
   "metadata": {
    "colab": {
     "height": 420
    },
    "colab_type": "code",
    "id": "xitplqMNk_Hc",
    "outputId": "ed4f60d2-878d-4056-c438-352dac39a112"
   },
   "outputs": [
    {
     "data": {
      "image/jpeg": "[encoded data removed]",
      "text/html": [
       "\n",
       "        <iframe\n",
       "            width=\"600\"\n",
       "            height=\"400\"\n",
       "            src=\"https://www.youtube.com/embed/inN8seMm7UI\"\n",
       "            frameborder=\"0\"\n",
       "            allowfullscreen\n",
       "        ></iframe>\n",
       "        "
      ],
      "text/plain": [
       "<IPython.lib.display.YouTubeVideo at 0x7f84e3fc36a0>"
      ]
     },
     "execution_count": 1,
     "metadata": {},
     "output_type": "execute_result"
    }
   ],
   "source": [
    "#@title Colaboratory 소개 { display-mode: \"form\" }\n",
    "#@markdown 3분 길이의 동영상을 통해 Colaboratory의 주요 기능을 간단하게 알아보세요.\n",
    "from IPython.display import YouTubeVideo\n",
    "YouTubeVideo('inN8seMm7UI', width=600, height=400)"
   ]
  },
  {
   "cell_type": "markdown",
   "metadata": {
    "colab_type": "text",
    "id": "GJBs_flRovLc"
   },
   "source": [
    "## 시작하기\n",
    "\n",
    "지금 읽고 계신 문서는 Colaboratory에 호스팅된 <a href=\"https://jupyter.org/\">Jupyter 노트</a>입니다. 정적인 페이지가 아닌, Python 등의 언어로 코드를 작성하고 실행할 수 있는 대화형 환경입니다.\n",
    "\n",
    "예를 들어 다음은 값을 계산하여 변수로 저장하고 결과를 출력하는 간단한 Python 스크립트가 포함된 <strong>코드 셀</strong>입니다."
   ]
  },
  {
   "cell_type": "code",
   "execution_count": 3,
   "metadata": {
    "colab": {
     "height": 35
    },
    "colab_type": "code",
    "id": "gJr_9dXGpJ05",
    "outputId": "5626194c-e802-4293-942d-2908885c3c1f"
   },
   "outputs": [
    {
     "data": {
      "text/plain": [
       "86400"
      ]
     },
     "execution_count": 3,
     "metadata": {},
     "output_type": "execute_result"
    }
   ],
   "source": [
    "seconds_in_a_day = 24 * 60 * 60\n",
    "seconds_in_a_day"
   ]
  },
  {
   "cell_type": "markdown",
   "metadata": {
    "colab_type": "text",
    "id": "2fhs6GZ4qFMx"
   },
   "source": [
    "위 셀의 코드를 실행하려면 셀을 클릭하여 선택한 후, 코드 왼쪽의 실행 버튼을 누르거나 단축키 'Command/Ctrl+Enter'를 사용합니다.\n",
    "\n",
    "모든 셀은 동일한 전역 상태를 수정하므로 셀을 실행하여 정의되는 변수는 다른 셀에서도 사용할 수 있습니다."
   ]
  },
  {
   "cell_type": "code",
   "execution_count": 3,
   "metadata": {
    "colab": {
     "height": 35
    },
    "colab_type": "code",
    "id": "-gE-Ez1qtyIA",
    "outputId": "8d2e4259-4682-4e19-b683-7b9087f28820"
   },
   "outputs": [
    {
     "data": {
      "text/plain": [
       "604800"
      ]
     },
     "execution_count": 3,
     "metadata": {},
     "output_type": "execute_result"
    }
   ],
   "source": [
    "seconds_in_a_week = 7 * seconds_in_a_day\n",
    "seconds_in_a_week"
   ]
  },
  {
   "cell_type": "markdown",
   "metadata": {
    "colab_type": "text",
    "id": "lSrWNr3MuFUS"
   },
   "source": [
    "Colaboratory 노트 사용 방법을 자세히 알아보려면 <a href=\"/notebooks/basic_features_overview.ipynb\">Colaboratory 개요</a>를 참조하세요.\n"
   ]
  },
  {
   "cell_type": "markdown",
   "metadata": {
    "colab_type": "text",
    "id": "-Rh3-Vt9Nev9"
   },
   "source": [
    "## 추가 리소스\n",
    "\n",
    "다음 리소스를 통해 Python, Jupyter, Colaboratory 및 관련 도구를 최대한 활용하는 방법을 알아보세요.\n",
    "\n",
    "### Colaboratory에서 노트로 작업하기\n",
    "- [Colaboratory 개요](/notebooks/basic_features_overview.ipynb)\n",
    "- [Markdown 가이드](/notebooks/markdown_guide.ipynb)\n",
    "- [라이브러리 가져오기 및 종속 항목 설치하기](/notebooks/snippets/importing_libraries.ipynb)\n",
    "- [GitHub에서 노트 저장 및 로드하기](https://colab.research.google.com/github/googlecolab/colabtools/blob/master/notebooks/colab-github-demo.ipynb)\n",
    "- [대화형 양식](/notebooks/forms.ipynb)\n",
    "- [대화형 위젯](/notebooks/widgets.ipynb)\n",
    "- <img src=\"/img/new.png\" height=\"20px\" align=\"left\" hspace=\"4px\" alt=\"New\"></img>\n",
    " [Colab의 TensorFlow 2](/notebooks/tensorflow_version.ipynb)\n",
    "\n",
    "### 데이터로 작업하기\n",
    "- [데이터 로드: 드라이브, 스프레드시트, Google Cloud Storage](/notebooks/io.ipynb) \n",
    "- [차트: 데이터 시각화하기](/notebooks/charts.ipynb)\n",
    "- [BigQuery 시작하기](/notebooks/bigquery.ipynb)\n",
    "\n",
    "### 머신러닝 단기집중과정\n",
    "다음은 Google 온라인 머신러닝 과정에서 가져온 일부 노트입니다. <a href=\"https://developers.google.com/machine-learning/crash-course/\">전체 과정 웹사이트</a>에서 자세한 내용을 확인하세요.\n",
    "- [Pandas 소개](/notebooks/mlcc/intro_to_pandas.ipynb)\n",
    "- [TensorFlow 개념](/notebooks/mlcc/tensorflow_programming_concepts.ipynb)\n",
    "- [TensorFlow 첫걸음](/notebooks/mlcc/first_steps_with_tensor_flow.ipynb)\n",
    "- [신경망 소개](/notebooks/mlcc/intro_to_neural_nets.ipynb)\n",
    "- [희소 데이터 및 임베딩 소개](/notebooks/mlcc/intro_to_sparse_data_and_embeddings.ipynb)\n",
    "\n",
    "### 가속 하드웨어 사용하기\n",
    "- [GPU를 사용한 TensorFlow](/notebooks/gpu.ipynb)\n",
    "- [TPU를 사용한 TensorFlow](/notebooks/tpu.ipynb)"
   ]
  },
  {
   "cell_type": "markdown",
   "metadata": {
    "colab_type": "text",
    "id": "-Rh3-Vt9Nev9"
   },
   "source": [
    "## 머신러닝 예제: Seedbank\n",
    "\n",
    "Colaboratory 덕분에 가능해진 대화형 머신러닝 분석의 예시를 자세히 살펴보려면 <a href=\"https://research.google.com/seedbank/\">Seedbank</a> 프로젝트를 확인하세요.\n",
    "\n",
    "일부 추천 예시는 다음과 같습니다.\n",
    "\n",
    "- <a href=\"https://research.google.com/seedbank/seed/neural_style_transfer_with_tfkeras\">신경망 스타일 이전</a>: 딥 러닝을 사용하여 이미지 간에 스타일을 이전합니다.\n",
    "- <a href=\"https://research.google.com/seedbank/seed/ez_nsynth\">EZ NSynth</a>: WaveNet 자동 인코더로 오디오를 합성합니다.\n",
    "- <a href=\"https://research.google.com/seedbank/seed/fashion_mnist_with_keras_and_tpus\">Keras 및 TPU를 사용한 Fashion MNIST</a>: 딥 러닝으로 패션 관련 이미지를 분류합니다.\n",
    "- <a href=\"https://research.google.com/seedbank/seed/deepdream\">DeepDream</a>: 내 사진으로 DeepDream 이미지를 만듭니다.\n",
    "- <a href=\"https://research.google.com/seedbank/seed/convolutional_vae\">컨볼루션 VAE</a>: 손으로 쓴 숫자의 생성 모델을 만듭니다."
   ]
  },
  {
   "cell_type": "markdown",
   "metadata": {
    "colab_type": "text",
    "id": "P-H6Lw1vyNNd"
   },
   "source": [
    "## 머신러닝 예제: Seedbank\n",
    "\n",
    "Colaboratory 덕분에 가능해진 대화형 머신러닝 분석의 예시를 자세히 살펴보려면 <a href=\"https://research.google.com/seedbank/\">Seedbank</a> 프로젝트를 확인하세요.\n",
    "\n",
    "일부 추천 예시는 다음과 같습니다.\n",
    "\n",
    "- <a href=\"https://research.google.com/seedbank/seed/neural_style_transfer_with_tfkeras\">신경망 스타일 이전</a>: 딥 러닝을 사용하여 이미지 간에 스타일을 이전합니다.\n",
    "- <a href=\"https://research.google.com/seedbank/seed/ez_nsynth\">EZ NSynth</a>: WaveNet 자동 인코더로 오디오를 합성합니다.\n",
    "- <a href=\"https://research.google.com/seedbank/seed/fashion_mnist_with_keras_and_tpus\">Keras 및 TPU를 사용한 Fashion MNIST</a>: 딥 러닝으로 패션 관련 이미지를 분류합니다.\n",
    "- <a href=\"https://research.google.com/seedbank/seed/deepdream\">DeepDream</a>: 내 사진으로 DeepDream 이미지를 만듭니다.\n",
    "- <a href=\"https://research.google.com/seedbank/seed/convolutional_vae\">컨볼루션 VAE</a>: 손으로 쓴 숫자의 생성 모델을 만듭니다."
   ]
  },
  {
   "cell_type": "code",
   "execution_count": null,
   "metadata": {},
   "outputs": [],
   "source": []
  }
 ],
 "metadata": {
  "colab": {
   "collapsed_sections": [],
   "name": "Colaboratory에 오신 것을 환영합니다",
   "provenance": [],
   "toc_visible": true
  },
  "kernelspec": {
   "display_name": "Python 3",
   "language": "python",
   "name": "python3"
  },
  "language_info": {
   "codemirror_mode": {
    "name": "ipython",
    "version": 3
   },
   "file_extension": ".py",
   "mimetype": "text/x-python",
   "name": "python",
   "nbconvert_exporter": "python",
   "pygments_lexer": "ipython3",
   "version": "3.6.8"
  },
  "toc": {
   "base_numbering": 1,
   "nav_menu": {},
   "number_sections": true,
   "sideBar": true,
   "skip_h1_title": false,
   "title_cell": "Table of Contents",
   "title_sidebar": "Contents",
   "toc_cell": false,
   "toc_position": {
    "height": "calc(100% - 180px)",
    "left": "10px",
    "top": "150px",
    "width": "336px"
   },
   "toc_section_display": true,
   "toc_window_display": false
  }
 },
 "nbformat": 4,
 "nbformat_minor": 1
}
